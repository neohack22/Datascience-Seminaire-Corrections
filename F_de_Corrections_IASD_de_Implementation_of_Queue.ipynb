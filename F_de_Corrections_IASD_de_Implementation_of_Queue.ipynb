{
  "nbformat": 4,
  "nbformat_minor": 0,
  "metadata": {
    "kernelspec": {
      "display_name": "Python 2",
      "language": "python",
      "name": "python2"
    },
    "language_info": {
      "codemirror_mode": {
        "name": "ipython",
        "version": 2
      },
      "file_extension": ".py",
      "mimetype": "text/x-python",
      "name": "python",
      "nbconvert_exporter": "python",
      "pygments_lexer": "ipython2",
      "version": "2.7.10"
    },
    "colab": {
      "provenance": [],
      "include_colab_link": true
    }
  },
  "cells": [
    {
      "cell_type": "markdown",
      "metadata": {
        "id": "view-in-github",
        "colab_type": "text"
      },
      "source": [
        "<a href=\"https://colab.research.google.com/github/neohack22/Datascience-Seminaire-Corrections/blob/main/F_de_Corrections_IASD_de_Implementation_of_Queue.ipynb\" target=\"_parent\"><img src=\"https://colab.research.google.com/assets/colab-badge.svg\" alt=\"Open In Colab\"/></a>"
      ]
    },
    {
      "cell_type": "markdown",
      "metadata": {
        "id": "2Qspyxutq_ER"
      },
      "source": [
        "# Implémentation d'une file d'attente\n",
        "\n",
        "Dans ce notebook, nous allons approfondir notre compréhension des files d'attente en implémentant notre propre classe de file d'attente !"
      ]
    },
    {
      "cell_type": "markdown",
      "metadata": {
        "collapsed": true,
        "id": "PbaR-ZmOq_EZ"
      },
      "source": [
        "____\n",
        "## Méthodes et attributs de la file d'attente\n",
        "\n",
        "\n",
        "Avant de commencer à implémenter notre propre file d'attente, examinons l'attribut et les méthodes qu'elle aura :\n",
        "\n",
        "* Queue() crée une nouvelle file d'attente vide. Elle ne nécessite aucun paramètre et renvoie une file d'attente vide.\n",
        "* enqueue(item) ajoute un nouvel élément à l'arrière de la file d'attente. Elle prend l'élément en paramètre et ne renvoie rien.\n",
        "* dequeue() supprime l'élément avant de la file d'attente. Elle ne nécessite aucun paramètre et renvoie l'élément. La file d'attente est modifiée.\n",
        "* isEmpty() vérifie si la file d'attente est vide. Elle ne nécessite aucun paramètre et renvoie une valeur booléenne.\n",
        "* size() renvoie le nombre d'éléments dans la file d'attente. Elle ne nécessite aucun paramètre et renvoie un entier."
      ]
    },
    {
      "cell_type": "markdown",
      "metadata": {
        "id": "lzES4zi4q_Ea"
      },
      "source": [
        "____\n",
        "## Implementation"
      ]
    },
    {
      "cell_type": "code",
      "metadata": {
        "id": "O5AbAqmKrFw9"
      },
      "source": [
        "class Queue:\n",
        "  def __init__(self):\n",
        "    self.items = []\n",
        "\n",
        "  def isEmpty(self):\n",
        "    return self.items == []\n",
        "\n",
        "  def enqueue(self, item):\n",
        "    self.items.insert(0,item)\n",
        "\n",
        "  def dequeue(self):\n",
        "    return self.items.pop()\n",
        "\n",
        "  def size(self):\n",
        "    return len(self.items)\n"
      ],
      "execution_count": null,
      "outputs": []
    },
    {
      "cell_type": "markdown",
      "source": [
        "Ce code définit une classe appelée Queue, conçue pour représenter une structure de données de file d'attente. Une file d'attente fonctionne selon le principe FIFO (First-In, First-Out), similaire à une file d'attente ou une ligne dans le monde réel.\n",
        "\n",
        "Imaginez ceci : la première personne dans la file est la première personne servie et quitte la file.\n",
        "\n",
        "**Comprendre les méthodes**\n",
        "Plongeons dans les méthodes de la classe Queue :\n",
        "\n",
        "*  `__init__(self)`: Il s'agit d'une méthode spéciale appelée constructeur. Elle est automatiquement appelée lorsque vous créez un nouvel objet `Queue`. Ici, elle initialise une liste vide appelée `self.items` pour stocker les éléments de la file d'attente. Cette liste sert de conteneur sous-jacent pour contenir les éléments.\n",
        "\n",
        "*  `isEmpty(self)`: Cette méthode vérifie si la file d'attente est vide. Elle renvoie `True` si la liste `self.items` est vide, et `False` sinon.\n",
        "\n",
        "*  `enqueue(self, item)`: Cette méthode ajoute un nouvel `item` à l'arrière de la file d'attente. Elle y parvient en insérant l'`item` à l'index 0 de la liste `self.items`.\n",
        "\n",
        "dequeue(self): Cette méthode supprime et renvoie l'élément à l'avant de la file d'attente. Elle utilise la fonction pop() pour supprimer et renvoyer le dernier élément de la liste self.items (qui aurait été le premier entré).\n",
        "\n",
        "`size(self)`: Cette méthode renvoie le nombre d'éléments actuellement dans la file d'attente. Elle le fait en utilisant la fonction intégrée `len()` pour déterminer la longueur de la liste `self.items`.\n",
        "\n",
        "Ce code crée essentiellement une structure de données de file d'attente personnalisée en Python. Il utilise une liste pour représenter en interne les éléments de la file d'attente et fournit des méthodes pour enfiler des éléments, défiler des éléments, vérifier si la file d'attente est vide et obtenir la taille de la file d'attente.\n",
        "\n",
        "En substance, il fournit un modèle pour créer et gérer des objets de file d'attente dans vos programmes Python. Vous pouvez utiliser cette classe pour ajouter des éléments à la file d'attente, supprimer des éléments, vérifier sa taille et déterminer si elle est vide, en suivant le principe FIFO."
      ],
      "metadata": {
        "id": "pS_KXHTn5onP"
      }
    },
    {
      "cell_type": "code",
      "metadata": {
        "id": "XnAj7W29r1Nj"
      },
      "source": [
        "q = Queue()"
      ],
      "execution_count": null,
      "outputs": []
    },
    {
      "cell_type": "code",
      "metadata": {
        "id": "Vq92QRWlq_Ec",
        "outputId": "5af41da8-96ef-45be-a1eb-d419aeddb928"
      },
      "source": [
        "q.size()"
      ],
      "execution_count": null,
      "outputs": [
        {
          "output_type": "execute_result",
          "data": {
            "text/plain": [
              "0"
            ]
          },
          "metadata": {
            "tags": []
          },
          "execution_count": 3
        }
      ]
    },
    {
      "cell_type": "code",
      "metadata": {
        "id": "tqEYBTbVr78G",
        "colab": {
          "base_uri": "https://localhost:8080/"
        },
        "outputId": "1d193510-a79f-40cb-97fd-ad7d5ed5e6a9"
      },
      "source": [
        "q.isEmpty()"
      ],
      "execution_count": null,
      "outputs": [
        {
          "output_type": "execute_result",
          "data": {
            "text/plain": [
              "True"
            ]
          },
          "metadata": {
            "tags": []
          },
          "execution_count": 4
        }
      ]
    },
    {
      "cell_type": "code",
      "metadata": {
        "id": "mTE3YsH9sCr2",
        "colab": {
          "base_uri": "https://localhost:8080/"
        },
        "outputId": "9cb669ba-48d9-4744-bb35-789f515c8cad"
      },
      "source": [
        "q.dequeue()"
      ],
      "execution_count": null,
      "outputs": [
        {
          "output_type": "execute_result",
          "data": {
            "text/plain": [
              "1"
            ]
          },
          "metadata": {
            "tags": []
          },
          "execution_count": 6
        }
      ]
    },
    {
      "cell_type": "markdown",
      "metadata": {
        "id": "2yMfY3euq_Ef"
      },
      "source": [
        "## Good Job!"
      ]
    },
    {
      "cell_type": "code",
      "metadata": {
        "id": "r62m62VCsGOf"
      },
      "source": [
        "class Queue(object):\n",
        "\n",
        "  def __init__(self):\n",
        "    self.items = []\n",
        "\n",
        "  def isEmpty(self):\n",
        "    return self.items == []\n",
        "\n",
        "  def enqueue(self, item):\n",
        "    self.items.insert(0,item)\n",
        "\n",
        "  def dequeue(self):\n",
        "    return self.items.pop()\n",
        "\n",
        "  def size(self):\n",
        "    return len(self.items)"
      ],
      "execution_count": null,
      "outputs": []
    },
    {
      "cell_type": "code",
      "metadata": {
        "id": "36SvpbtXspwP"
      },
      "source": [
        "q = Queue()"
      ],
      "execution_count": null,
      "outputs": []
    },
    {
      "cell_type": "code",
      "metadata": {
        "id": "7xqKfhmgsr2Z",
        "colab": {
          "base_uri": "https://localhost:8080/"
        },
        "outputId": "6cac6de7-b00e-4e4e-b522-e22ee056d97b"
      },
      "source": [
        "q.size()"
      ],
      "execution_count": null,
      "outputs": [
        {
          "output_type": "execute_result",
          "data": {
            "text/plain": [
              "0"
            ]
          },
          "metadata": {
            "tags": []
          },
          "execution_count": 9
        }
      ]
    },
    {
      "cell_type": "code",
      "metadata": {
        "id": "U5M61bTvstLg",
        "colab": {
          "base_uri": "https://localhost:8080/"
        },
        "outputId": "9b1b7c51-d8c6-4383-b6a8-e15e49efa420"
      },
      "source": [
        "q.isEmpty()"
      ],
      "execution_count": null,
      "outputs": [
        {
          "output_type": "execute_result",
          "data": {
            "text/plain": [
              "True"
            ]
          },
          "metadata": {
            "tags": []
          },
          "execution_count": 10
        }
      ]
    },
    {
      "cell_type": "code",
      "metadata": {
        "id": "2bTt9TMfsvEK"
      },
      "source": [
        "q.enqueue(1)"
      ],
      "execution_count": null,
      "outputs": []
    },
    {
      "cell_type": "code",
      "metadata": {
        "id": "cGFvb1Q8sxrh"
      },
      "source": [
        "q.enqueue(2)"
      ],
      "execution_count": null,
      "outputs": []
    },
    {
      "cell_type": "code",
      "metadata": {
        "id": "UX6u1WBeszUe",
        "colab": {
          "base_uri": "https://localhost:8080/"
        },
        "outputId": "f83b20f4-8a3b-4d52-8218-35e9509c1605"
      },
      "source": [
        "q.dequeue()"
      ],
      "execution_count": null,
      "outputs": [
        {
          "output_type": "execute_result",
          "data": {
            "text/plain": [
              "1"
            ]
          },
          "metadata": {
            "tags": []
          },
          "execution_count": 13
        }
      ]
    },
    {
      "cell_type": "markdown",
      "source": [
        "Le calcul distribué utilise la gestion des files d'attente pour gérer la mémoire de plusieurs manières, principalement pour coordonner l'accès aux ressources et optimiser l'utilisation de la mémoire sur un cluster de machines. Voici les principaux aspects :\n",
        "\n",
        "**1. Planification des tâches et allocation de mémoire :**\n",
        "\n",
        "*  **Files d'attente de tâches**: Les tâches à exécuter sont placées dans des files d'attente, souvent avec des priorités et des exigences de ressources spécifiques (mémoire, CPU, etc.).\n",
        "*  **Planificateur de ressources**: Un planificateur distribue les tâches aux nœuds du cluster en fonction des ressources disponibles et des exigences des tâches. Il utilise les files d'attente pour choisir la prochaine tâche à exécuter et lui allouer la mémoire nécessaire.\n",
        "*  Dans Apache Spark, le gestionnaire de cluster utilise une file d'attente pour gérer les applications soumises et alloue des exécuteurs (processus de travail) avec une quantité de mémoire spécifiée pour chaque application.\n",
        "\n",
        "**2. Gestion des données distribuées :**\n",
        "\n",
        "*  **Files d'attente de messages**: Les systèmes de calcul distribué utilisent souvent des files d'attente de messages (comme Kafka ou RabbitMQ) pour échanger des données entre les nœuds.\n",
        "*  **Contrôle du flux de données :** Les files d'attente permettent de contrôler le flux de données entre les tâches et de gérer les pics de charge. Elles agissent comme des tampons pour stocker les données en attente de traitement.\n",
        "Impact sur la mémoire : La taille des files d'attente de messages et la vitesse à laquelle les données sont consommées ont un impact direct sur l'utilisation de la mémoire du cluster.\n",
        "\n",
        "**3. Communication inter-processus :**\n",
        "\n",
        "*  **Files d'attente de communication:** Les processus s'exécutant sur différents nœuds utilisent des files d'attente pour communiquer et partager des données.\n",
        "*  **Synchronisation et coordination :** Les files d'attente permettent de synchroniser l'accès aux ressources partagées et de coordonner l'exécution des tâches.\n",
        "*  Dans un système de base de données distribuée, les files d'attente peuvent être utilisées pour gérer les demandes de lecture/écriture et assurer la cohérence des données.\n",
        "\n",
        "**4. Gestion de la mémoire partagée :**\n",
        "\n",
        "*  **Files d'attente d'accès :** Dans les systèmes avec une mémoire partagée distribuée, les files d'attente peuvent être utilisées pour gérer les accès concurrents à la mémoire et éviter les conflits.\n",
        "*  Dans un système de cache distribué, les files d'attente peuvent être utilisées pour gérer les demandes de lecture/écriture sur les données mises en cache.\n",
        "En résumé :\n",
        "\n",
        "La gestion des files d'attente est un élément essentiel du calcul distribué pour gérer la mémoire et les autres ressources du cluster. Elle permet de :\n",
        "\n",
        "*  Planifier et exécuter les tâches efficacement.\n",
        "*  Contrôler le flux de données et gérer les pics de charge.\n",
        "*  Coordonner la communication et la synchronisation entre les processus.\n",
        "*  Gérer l'accès aux ressources partagées, y compris la mémoire.\n",
        "En utilisant des files d'attente, les systèmes de calcul distribué peuvent optimiser l'utilisation de la mémoire et améliorer les performances globales du cluster."
      ],
      "metadata": {
        "id": "GUiQMysAkiZ5"
      }
    }
  ]
}